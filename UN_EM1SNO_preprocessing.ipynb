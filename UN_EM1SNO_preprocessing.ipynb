{
 "cells": [
  {
   "cell_type": "code",
   "execution_count": 3,
   "id": "709dcc1b-3f5c-4b35-8026-eb531a7b562e",
   "metadata": {},
   "outputs": [],
   "source": [
    "import pandas as pd\n",
    "import matplotlib.pyplot as plt\n",
    "import seaborn as sns\n",
    "import numpy as np\n",
    "from sklearn.decomposition import PCA\n",
    "from sklearn.preprocessing import StandardScaler\n",
    "from statsmodels.stats.outliers_influence import variance_inflation_factor\n",
    "\n",
    "RANDOM_STATE = 42"
   ]
  },
  {
   "cell_type": "code",
   "execution_count": 4,
   "id": "4ccc21c9-f539-4064-bde7-c6f999791569",
   "metadata": {},
   "outputs": [],
   "source": [
    "X_train = pd.read_csv(\"X_train.csv\")\n",
    "X_test = pd.read_csv(\"X_test.csv\")\n",
    "y_train = pd.read_csv(\"y_train.csv\")"
   ]
  },
  {
   "cell_type": "code",
   "execution_count": 5,
   "id": "244d0106-956a-46c2-84b5-e46681150be7",
   "metadata": {},
   "outputs": [],
   "source": [
    "y_train = y_train.drop(columns=[\"id\"])\n",
    "X_train = X_train.drop(columns=[\"id\"])\n",
    "X_test = X_test.drop(columns=[\"id\"])"
   ]
  },
  {
   "cell_type": "code",
   "execution_count": 7,
   "id": "2b780994-a2c9-4ba9-984c-29528a36b105",
   "metadata": {},
   "outputs": [
    {
     "name": "stderr",
     "output_type": "stream",
     "text": [
      "C:\\ProgramData\\anaconda3\\Lib\\site-packages\\statsmodels\\stats\\outliers_influence.py:197: RuntimeWarning: divide by zero encountered in scalar divide\n",
      "  vif = 1. / (1. - r_squared_i)\n",
      "C:\\ProgramData\\anaconda3\\Lib\\site-packages\\statsmodels\\regression\\linear_model.py:1785: RuntimeWarning: invalid value encountered in scalar divide\n",
      "  return 1 - self.ssr/self.uncentered_tss\n"
     ]
    },
    {
     "data": {
      "text/html": [
       "<div>\n",
       "<style scoped>\n",
       "    .dataframe tbody tr th:only-of-type {\n",
       "        vertical-align: middle;\n",
       "    }\n",
       "\n",
       "    .dataframe tbody tr th {\n",
       "        vertical-align: top;\n",
       "    }\n",
       "\n",
       "    .dataframe thead th {\n",
       "        text-align: right;\n",
       "    }\n",
       "</style>\n",
       "<table border=\"1\" class=\"dataframe\">\n",
       "  <thead>\n",
       "    <tr style=\"text-align: right;\">\n",
       "      <th></th>\n",
       "      <th>variables</th>\n",
       "      <th>VIF</th>\n",
       "    </tr>\n",
       "  </thead>\n",
       "  <tbody>\n",
       "    <tr>\n",
       "      <th>28</th>\n",
       "      <td>num_deprecated_modules</td>\n",
       "      <td>1.012563</td>\n",
       "    </tr>\n",
       "    <tr>\n",
       "      <th>74</th>\n",
       "      <td>delta_num_deprecated_modules</td>\n",
       "      <td>1.017382</td>\n",
       "    </tr>\n",
       "    <tr>\n",
       "      <th>21</th>\n",
       "      <td>num_authorized_key</td>\n",
       "      <td>1.020325</td>\n",
       "    </tr>\n",
       "    <tr>\n",
       "      <th>32</th>\n",
       "      <td>num_file_exists</td>\n",
       "      <td>1.022900</td>\n",
       "    </tr>\n",
       "    <tr>\n",
       "      <th>67</th>\n",
       "      <td>delta_num_authorized_key</td>\n",
       "      <td>1.031967</td>\n",
       "    </tr>\n",
       "    <tr>\n",
       "      <th>...</th>\n",
       "      <td>...</td>\n",
       "      <td>...</td>\n",
       "    </tr>\n",
       "    <tr>\n",
       "      <th>12</th>\n",
       "      <td>deletions</td>\n",
       "      <td>inf</td>\n",
       "    </tr>\n",
       "    <tr>\n",
       "      <th>8</th>\n",
       "      <td>code_churn_count</td>\n",
       "      <td>inf</td>\n",
       "    </tr>\n",
       "    <tr>\n",
       "      <th>0</th>\n",
       "      <td>additions</td>\n",
       "      <td>inf</td>\n",
       "    </tr>\n",
       "    <tr>\n",
       "      <th>47</th>\n",
       "      <td>num_math_operations</td>\n",
       "      <td>NaN</td>\n",
       "    </tr>\n",
       "    <tr>\n",
       "      <th>93</th>\n",
       "      <td>delta_num_math_operations</td>\n",
       "      <td>NaN</td>\n",
       "    </tr>\n",
       "  </tbody>\n",
       "</table>\n",
       "<p>108 rows × 2 columns</p>\n",
       "</div>"
      ],
      "text/plain": [
       "                       variables       VIF\n",
       "28        num_deprecated_modules  1.012563\n",
       "74  delta_num_deprecated_modules  1.017382\n",
       "21            num_authorized_key  1.020325\n",
       "32               num_file_exists  1.022900\n",
       "67      delta_num_authorized_key  1.031967\n",
       "..                           ...       ...\n",
       "12                     deletions       inf\n",
       "8               code_churn_count       inf\n",
       "0                      additions       inf\n",
       "47           num_math_operations       NaN\n",
       "93     delta_num_math_operations       NaN\n",
       "\n",
       "[108 rows x 2 columns]"
      ]
     },
     "execution_count": 7,
     "metadata": {},
     "output_type": "execute_result"
    }
   ],
   "source": [
    "def calc_vif(X):\n",
    "    vif = pd.DataFrame()\n",
    "    vif[\"variables\"] = X.columns\n",
    "    vif[\"VIF\"] = [variance_inflation_factor(X.values, i) for i in range(X.shape[1])]\n",
    "    return(vif)\n",
    "\n",
    "vif = calc_vif(X_train)\n",
    "vif= vif.sort_values(\"VIF\")\n",
    "vif"
   ]
  },
  {
   "cell_type": "code",
   "execution_count": 10,
   "id": "f9313fb6-574f-44f1-a321-5170ae523d3c",
   "metadata": {},
   "outputs": [
    {
     "data": {
      "text/html": [
       "<div>\n",
       "<style scoped>\n",
       "    .dataframe tbody tr th:only-of-type {\n",
       "        vertical-align: middle;\n",
       "    }\n",
       "\n",
       "    .dataframe tbody tr th {\n",
       "        vertical-align: top;\n",
       "    }\n",
       "\n",
       "    .dataframe thead th {\n",
       "        text-align: right;\n",
       "    }\n",
       "</style>\n",
       "<table border=\"1\" class=\"dataframe\">\n",
       "  <thead>\n",
       "    <tr style=\"text-align: right;\">\n",
       "      <th></th>\n",
       "      <th>variables</th>\n",
       "      <th>VIF</th>\n",
       "    </tr>\n",
       "  </thead>\n",
       "  <tbody>\n",
       "    <tr>\n",
       "      <th>28</th>\n",
       "      <td>num_deprecated_modules</td>\n",
       "      <td>1.012563</td>\n",
       "    </tr>\n",
       "    <tr>\n",
       "      <th>74</th>\n",
       "      <td>delta_num_deprecated_modules</td>\n",
       "      <td>1.017382</td>\n",
       "    </tr>\n",
       "    <tr>\n",
       "      <th>21</th>\n",
       "      <td>num_authorized_key</td>\n",
       "      <td>1.020325</td>\n",
       "    </tr>\n",
       "    <tr>\n",
       "      <th>32</th>\n",
       "      <td>num_file_exists</td>\n",
       "      <td>1.022900</td>\n",
       "    </tr>\n",
       "    <tr>\n",
       "      <th>67</th>\n",
       "      <td>delta_num_authorized_key</td>\n",
       "      <td>1.031967</td>\n",
       "    </tr>\n",
       "    <tr>\n",
       "      <th>...</th>\n",
       "      <td>...</td>\n",
       "      <td>...</td>\n",
       "    </tr>\n",
       "    <tr>\n",
       "      <th>11</th>\n",
       "      <td>contributors_count</td>\n",
       "      <td>6.546468</td>\n",
       "    </tr>\n",
       "    <tr>\n",
       "      <th>4</th>\n",
       "      <td>avg_task_size</td>\n",
       "      <td>7.015963</td>\n",
       "    </tr>\n",
       "    <tr>\n",
       "      <th>25</th>\n",
       "      <td>num_conditions</td>\n",
       "      <td>7.177816</td>\n",
       "    </tr>\n",
       "    <tr>\n",
       "      <th>98</th>\n",
       "      <td>delta_num_prompts</td>\n",
       "      <td>9.126744</td>\n",
       "    </tr>\n",
       "    <tr>\n",
       "      <th>64</th>\n",
       "      <td>delta_lines_blank</td>\n",
       "      <td>9.213631</td>\n",
       "    </tr>\n",
       "  </tbody>\n",
       "</table>\n",
       "<p>81 rows × 2 columns</p>\n",
       "</div>"
      ],
      "text/plain": [
       "                       variables       VIF\n",
       "28        num_deprecated_modules  1.012563\n",
       "74  delta_num_deprecated_modules  1.017382\n",
       "21            num_authorized_key  1.020325\n",
       "32               num_file_exists  1.022900\n",
       "67      delta_num_authorized_key  1.031967\n",
       "..                           ...       ...\n",
       "11            contributors_count  6.546468\n",
       "4                  avg_task_size  7.015963\n",
       "25                num_conditions  7.177816\n",
       "98             delta_num_prompts  9.126744\n",
       "64             delta_lines_blank  9.213631\n",
       "\n",
       "[81 rows x 2 columns]"
      ]
     },
     "execution_count": 10,
     "metadata": {},
     "output_type": "execute_result"
    }
   ],
   "source": [
    "vif[vif['VIF']<10]"
   ]
  },
  {
   "cell_type": "markdown",
   "id": "f2889db1-9c12-4f14-9fed-7815727f73a7",
   "metadata": {},
   "source": [
    "This shows a perfect correlation between two independent variables. In the case of perfect correlation, we get R2 =1, which lead to 1/(1-R2) infinity. To solve this problem we need to drop one of the variables from the dataset which is causing this perfect multicollinearity."
   ]
  },
  {
   "cell_type": "code",
   "execution_count": 11,
   "id": "ecdc6bf5-e716-4913-aec4-f9c37a71cf83",
   "metadata": {},
   "outputs": [],
   "source": [
    "vif_cols = list(vif[vif['VIF']<10][\"variables\"].unique())"
   ]
  },
  {
   "cell_type": "code",
   "execution_count": 12,
   "id": "b93e0208-301e-42e4-8a44-8acc74c3997c",
   "metadata": {},
   "outputs": [],
   "source": [
    "scaler = StandardScaler()\n",
    "scaler = scaler.fit(X_train)\n",
    "X_train_scaled = scaler.transform(X_train)\n",
    "X_train_scaled = pd.DataFrame(X_train_scaled, columns=X_train.columns)\n",
    "X_test_scaled = scaler.transform(X_test)\n",
    "X_test_scaled = pd.DataFrame(X_test_scaled, columns=X_test.columns)\n",
    "\n",
    "X_train_vif = X_train_scaled[vif_cols]\n",
    "X_test_vif = X_test_scaled[vif_cols]"
   ]
  },
  {
   "cell_type": "code",
   "execution_count": 13,
   "id": "823be244-924f-4da4-b34c-98c6269c7126",
   "metadata": {},
   "outputs": [
    {
     "data": {
      "image/png": "[encoded data removed]",
      "text/plain": [
       "<Figure size 1000x600 with 1 Axes>"
      ]
     },
     "metadata": {},
     "output_type": "display_data"
    }
   ],
   "source": [
    "explained_var = []\n",
    "for n in range(1, 109):\n",
    "    pca = PCA(n_components=n)\n",
    "    X_train_pca = pca.fit_transform(X_train_scaled)\n",
    "    explained_var.append(sum(pca.explained_variance_ratio_))\n",
    "\n",
    "plt.figure(figsize=(10, 6))\n",
    "plt.plot(range(1, 109), explained_var, marker='o', linestyle='-', color='b', label='Cumulative Explained Variance')\n",
    "plt.xlabel('Number of Principal Components', fontsize=12)\n",
    "plt.ylabel('Cumulative Explained Variance Ratio', fontsize=12)\n",
    "plt.title('Explained Variance vs. Number of Principal Components', fontsize=14)\n",
    "plt.legend()\n",
    "plt.grid(alpha=0.3)\n",
    "plt.show()"
   ]
  },
  {
   "cell_type": "code",
   "execution_count": 10,
   "id": "cf344308-d228-4584-8bae-867a3a1266ea",
   "metadata": {},
   "outputs": [
    {
     "name": "stdout",
     "output_type": "stream",
     "text": [
      "Explained variance by first 60 components: 0.9049357326984675\n"
     ]
    }
   ],
   "source": [
    "pca = PCA(n_components=60)\n",
    "pca_60 = pca.fit(X_train_scaled)\n",
    "X_train_pca_60 = pca_60.transform(X_train_scaled)\n",
    "X_train_pca_60 = pd.DataFrame(X_train_pca_60)\n",
    "print(f\"Explained variance by first 60 components: {sum(pca.explained_variance_ratio_)}\")\n",
    "\n",
    "X_test_pca_60 = pca_60.transform(X_test)\n",
    "X_test_pca_60 = pd.DataFrame(X_test_pca_60)"
   ]
  },
  {
   "cell_type": "code",
   "execution_count": 11,
   "id": "2afc0827-f0a1-4bb1-8237-796fa38ff6fd",
   "metadata": {},
   "outputs": [
    {
     "name": "stdout",
     "output_type": "stream",
     "text": [
      "Explained variance by first 85 components: 0.9903506165060423\n"
     ]
    }
   ],
   "source": [
    "pca = PCA(n_components=85)\n",
    "pca_85 = pca.fit(X_train_scaled)\n",
    "X_train_pca_85 = pca_85.transform(X_train_scaled)\n",
    "X_train_pca_85 = pd.DataFrame(X_train_pca_85)\n",
    "print(f\"Explained variance by first 85 components: {sum(pca.explained_variance_ratio_)}\")\n",
    "\n",
    "X_test_pca_85 = pca_85.transform(X_test)\n",
    "X_test_pca_85 = pd.DataFrame(X_test_pca_85)"
   ]
  },
  {
   "cell_type": "code",
   "execution_count": 12,
   "id": "35d098d4-e49a-41e6-83a8-0b2e4ce14707",
   "metadata": {},
   "outputs": [],
   "source": [
    "y_train.to_csv('pc_y_train.csv', index=False)\n",
    "\n",
    "X_train_scaled.to_csv('pc_X_train.csv', index=False)\n",
    "X_test_scaled.to_csv('pc_X_test.csv', index=False)\n",
    "\n",
    "X_train_vif.to_csv('pc_X_train_vif.csv', index=False)\n",
    "X_test_vif.to_csv('pc_X_test_vif.csv', index=False)\n",
    "\n",
    "X_train_pca_60.to_csv('pc_X_train_pca_60.csv', index=False)\n",
    "X_test_pca_60.to_csv('pc_X_test_pca_60.csv', index=False)\n",
    "\n",
    "X_train_pca_85.to_csv('pc_X_train_pca_85.csv', index=False)\n",
    "X_test_pca_85.to_csv('pc_X_test_pca_85.csv', index=False)"
   ]
  }
 ],
 "metadata": {
  "kernelspec": {
   "display_name": "Python 3 (ipykernel)",
   "language": "python",
   "name": "python3"
  },
  "language_info": {
   "codemirror_mode": {
    "name": "ipython",
    "version": 3
   },
   "file_extension": ".py",
   "mimetype": "text/x-python",
   "name": "python",
   "nbconvert_exporter": "python",
   "pygments_lexer": "ipython3",
   "version": "3.12.7"
  }
 },
 "nbformat": 4,
 "nbformat_minor": 5
}
